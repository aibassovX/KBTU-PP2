{
 "cells": [
  {
   "cell_type": "markdown",
   "id": "c2d0ed15",
   "metadata": {},
   "source": [
    "# TSIS 5 - RegEx\n",
    "\n",
    "Это **#5** лабораторная работа по предмету *\"Принципы Программирования 2\".*\n",
    "\n",
    "Студента: **Айбасов Даниал Елнарович**\n",
    "\n",
    "1. Write a Python program that matches a string that has an `'a'` followed by zero or more `'b'`'s.\n",
    " \n",
    "2. Write a Python program that matches a string that has an `'a'` followed by two to three `'b'`.\n",
    " \n",
    "3. Write a Python program to find sequences of lowercase letters joined with a underscore.\n",
    " \n",
    "4. Write a Python program to find the sequences of one upper case letter followed by lower case letters.\n",
    " \n",
    "5. Write a Python program that matches a string that has an `'a'` followed by anything, ending in `'b'`.\n",
    " \n",
    "6. Write a Python program to replace all occurrences of space, comma, or dot with a colon.\n",
    " \n",
    "7. Write a python program to convert snake case string to camel case string.\n",
    " \n",
    "8. Write a Python program to split a string at uppercase letters.\n",
    " \n",
    "9. Write a Python program to insert spaces between words starting with capital letters.\n",
    " \n",
    "10. Write a Python program to convert a given camel case string to snake case.\n",
    "\n"
   ]
  },
  {
   "cell_type": "code",
   "execution_count": 2,
   "id": "f08451dc",
   "metadata": {},
   "outputs": [],
   "source": [
    "import re"
   ]
  },
  {
   "cell_type": "markdown",
   "id": "deadb3de",
   "metadata": {},
   "source": [
    "1. Write a Python program that matches a string that has an 'a' followed by zero or more 'b''s."
   ]
  },
  {
   "cell_type": "code",
   "execution_count": 9,
   "id": "0300f188",
   "metadata": {},
   "outputs": [
    {
     "name": "stdout",
     "output_type": "stream",
     "text": [
      "'a' matches\n",
      "'ab' matches\n",
      "'abb' matches\n",
      "'abbb' matches\n",
      "'b' doesn't match\n",
      "'ac' doesn't match\n"
     ]
    }
   ],
   "source": [
    "pattern = 'ab*'\n",
    "\n",
    "def match_string(s):\n",
    "    if re.fullmatch(pattern, s):\n",
    "        return f\"'{s}' matches\"\n",
    "    else:\n",
    "        return f\"'{s}' doesn't match\"\n",
    "\n",
    "test = ['a', 'ab', 'abb', 'abbb', 'b', 'ac']\n",
    "\n",
    "for s in test:\n",
    "    print(match_string(s))"
   ]
  },
  {
   "cell_type": "markdown",
   "id": "35acefe9",
   "metadata": {},
   "source": [
    "---"
   ]
  },
  {
   "cell_type": "markdown",
   "id": "6b582dde",
   "metadata": {},
   "source": [
    "2. Write a Python program that matches a string that has an 'a' followed by two to three 'b'."
   ]
  },
  {
   "cell_type": "code",
   "execution_count": 8,
   "id": "4d0eeed2",
   "metadata": {},
   "outputs": [
    {
     "name": "stdout",
     "output_type": "stream",
     "text": [
      "'a' doesn't match\n",
      "'ab' doesn't match\n",
      "'abb' matches\n",
      "'abbb' matches\n",
      "'b' doesn't match\n",
      "'ac' doesn't match\n"
     ]
    }
   ],
   "source": [
    "pattern = 'ab{2,3}'\n",
    "\n",
    "def match_string(s):\n",
    "    if re.fullmatch(pattern, s):\n",
    "        return f\"'{s}' matches\"\n",
    "    else:\n",
    "        return f\"'{s}' doesn't match\"\n",
    "\n",
    "test = ['a', 'ab', 'abb', 'abbb', 'b', 'ac']\n",
    "\n",
    "for s in test:\n",
    "    print(match_string(s))"
   ]
  },
  {
   "cell_type": "markdown",
   "id": "c2dee117",
   "metadata": {},
   "source": [
    "---"
   ]
  },
  {
   "cell_type": "markdown",
   "id": "fad656a6",
   "metadata": {},
   "source": [
    "3. Write a Python program to find sequences of lowercase letters joined with a underscore."
   ]
  },
  {
   "cell_type": "code",
   "execution_count": 7,
   "id": "29c8f38c",
   "metadata": {},
   "outputs": [
    {
     "name": "stdout",
     "output_type": "stream",
     "text": [
      "'hello_world' matches\n",
      "'hello_World' doesn't match\n",
      "'hello_world1' doesn't match\n",
      "'abc_def_ghi' doesn't match\n",
      "'good_luck' matches\n"
     ]
    }
   ],
   "source": [
    "pattern = r'^[a-z]+_[a-z]+$'\n",
    "\n",
    "def match_string(s):\n",
    "    if re.fullmatch(pattern, s):\n",
    "        return f\"'{s}' matches\"\n",
    "    else:\n",
    "        return f\"'{s}' doesn't match\"\n",
    "\n",
    "test = ['hello_world', 'hello_World', 'hello_world1', 'abc_def_ghi', 'good_luck']\n",
    "\n",
    "for s in test:\n",
    "    print(match_string(s))"
   ]
  },
  {
   "cell_type": "markdown",
   "id": "a4b129de",
   "metadata": {},
   "source": [
    "---"
   ]
  },
  {
   "cell_type": "markdown",
   "id": "cc5ba640",
   "metadata": {},
   "source": [
    "4. Write a Python program to find the sequences of one upper case letter followed by lower case letters."
   ]
  },
  {
   "cell_type": "code",
   "execution_count": 12,
   "id": "16eebfc4",
   "metadata": {},
   "outputs": [
    {
     "name": "stdout",
     "output_type": "stream",
     "text": [
      "'bb' doesn't match\n",
      "'CC' doesn't match\n",
      "'dD' doesn't match\n",
      "'Gg' matches\n"
     ]
    }
   ],
   "source": [
    "pattern = r'^[A-Z]+[a-z]+$'\n",
    "\n",
    "def match_string(s):\n",
    "    if re.fullmatch(pattern, s):\n",
    "        return f\"'{s}' matches\"\n",
    "    else:\n",
    "        return f\"'{s}' doesn't match\"\n",
    "\n",
    "test = ['bb','CC','dD','Gg']\n",
    "\n",
    "for s in test:\n",
    "    print(match_string(s))"
   ]
  },
  {
   "cell_type": "markdown",
   "id": "2771d007",
   "metadata": {},
   "source": [
    "---"
   ]
  },
  {
   "cell_type": "markdown",
   "id": "ec404f1d",
   "metadata": {},
   "source": [
    "5. Write a Python program that matches a string that has an 'a' followed by anything, ending in 'b'."
   ]
  },
  {
   "cell_type": "code",
   "execution_count": 3,
   "id": "2075748a",
   "metadata": {},
   "outputs": [
    {
     "name": "stdout",
     "output_type": "stream",
     "text": [
      "'axxxxxxb' matches\n",
      "'axxxxxxd' doesn't match\n",
      "'axxxs' doesn't match\n",
      "'axb' matches\n"
     ]
    }
   ],
   "source": [
    "pattern = 'a.*?b$'\n",
    "\n",
    "def match_string(s):\n",
    "    if re.fullmatch(pattern, s):\n",
    "        return f\"'{s}' matches\"\n",
    "    else:\n",
    "        return f\"'{s}' doesn't match\"\n",
    "\n",
    "test = ['axxxxxxb','axxxxxxd','axxxs','axb']\n",
    "\n",
    "for s in test:\n",
    "    print(match_string(s))"
   ]
  },
  {
   "cell_type": "markdown",
   "id": "628e1060",
   "metadata": {},
   "source": [
    "---"
   ]
  },
  {
   "cell_type": "markdown",
   "id": "26d85f7e",
   "metadata": {},
   "source": [
    "6. Write a Python program to replace all occurrences of space, comma, or dot with a colon."
   ]
  },
  {
   "cell_type": "code",
   "execution_count": 4,
   "id": "f99ce80e",
   "metadata": {},
   "outputs": [
    {
     "name": "stdout",
     "output_type": "stream",
     "text": [
      "Hello::world::How:are:you:today?\n"
     ]
    }
   ],
   "source": [
    "def replace_with_colon(text):    \n",
    "    return re.sub(r'[ ,.]', ':', text)\n",
    "\n",
    "text = \"Hello, world. How are you today?\"\n",
    "result = replace_with_colon(text)\n",
    "print(result)"
   ]
  },
  {
   "cell_type": "markdown",
   "id": "52bcb66c",
   "metadata": {},
   "source": [
    "---"
   ]
  },
  {
   "cell_type": "markdown",
   "id": "d698fbdb",
   "metadata": {},
   "source": [
    "7.Write a python program to convert snake case string to camel case string."
   ]
  },
  {
   "cell_type": "code",
   "execution_count": 5,
   "id": "3d138f2e",
   "metadata": {},
   "outputs": [
    {
     "name": "stdout",
     "output_type": "stream",
     "text": [
      "thisIsASnakeCaseString\n"
     ]
    }
   ],
   "source": [
    "def snake_to_camel(snake_str):\n",
    "    return re.sub(r'_([a-z])', lambda match: match.group(1).upper(), snake_str)\n",
    "\n",
    "snake_str = \"this_is_a_snake_case_string\"\n",
    "result = snake_to_camel(snake_str)\n",
    "print(result)"
   ]
  },
  {
   "cell_type": "markdown",
   "id": "dc4ed4fb",
   "metadata": {},
   "source": [
    "---"
   ]
  },
  {
   "cell_type": "markdown",
   "id": "8cda3a3a",
   "metadata": {},
   "source": [
    "8. Write a Python program to split a string at uppercase letters."
   ]
  },
  {
   "cell_type": "code",
   "execution_count": 6,
   "id": "d7a41e5d",
   "metadata": {},
   "outputs": [
    {
     "name": "stdout",
     "output_type": "stream",
     "text": [
      "['', 'This', 'Is', 'A', 'String', 'With', 'Uppercase', 'Letters']\n"
     ]
    }
   ],
   "source": [
    "def split_at_uppercase(s):\n",
    "    return re.split(r'(?=[A-Z])', s)\n",
    "\n",
    "text = \"ThisIsAStringWithUppercaseLetters\"\n",
    "result = split_at_uppercase(text)\n",
    "print(result)"
   ]
  },
  {
   "cell_type": "markdown",
   "id": "98755401",
   "metadata": {},
   "source": [
    "---"
   ]
  },
  {
   "cell_type": "markdown",
   "id": "6c23ad38",
   "metadata": {},
   "source": [
    "9. Write a Python program to insert spaces between words starting with capital letters."
   ]
  },
  {
   "cell_type": "code",
   "execution_count": 7,
   "id": "fceb8852",
   "metadata": {},
   "outputs": [
    {
     "name": "stdout",
     "output_type": "stream",
     "text": [
      "This Is A String With Capital Letters\n"
     ]
    }
   ],
   "source": [
    "def add_spaces(text):\n",
    "    return re.sub(r'(?<!^)([A-Z])', r' \\1', text)\n",
    "\n",
    "text = \"ThisIsAStringWithCapitalLetters\"\n",
    "result = add_spaces(text)\n",
    "print(result)"
   ]
  },
  {
   "cell_type": "markdown",
   "id": "d4cfe8f6",
   "metadata": {},
   "source": [
    "---"
   ]
  },
  {
   "cell_type": "markdown",
   "id": "f9529454",
   "metadata": {},
   "source": [
    "10. Write a Python program to convert a given camel case string to snake case. "
   ]
  },
  {
   "cell_type": "code",
   "execution_count": 9,
   "id": "fedb6996",
   "metadata": {},
   "outputs": [
    {
     "name": "stdout",
     "output_type": "stream",
     "text": [
      "this_is_a_camel_case_string\n"
     ]
    }
   ],
   "source": [
    "def camel_to_snake(camel_str):\n",
    "    snake_str = re.sub(r'(?<!^)([A-Z])', r'_\\1', camel_str)\n",
    "    return snake_str.lower()\n",
    "\n",
    "camel_str = \"thisIsACamelCaseString\"\n",
    "result = camel_to_snake(camel_str)\n",
    "print(result)"
   ]
  }
 ],
 "metadata": {
  "kernelspec": {
   "display_name": "Python 3 (ipykernel)",
   "language": "python",
   "name": "python3"
  },
  "language_info": {
   "codemirror_mode": {
    "name": "ipython",
    "version": 3
   },
   "file_extension": ".py",
   "mimetype": "text/x-python",
   "name": "python",
   "nbconvert_exporter": "python",
   "pygments_lexer": "ipython3",
   "version": "3.11.5"
  }
 },
 "nbformat": 4,
 "nbformat_minor": 5
}
