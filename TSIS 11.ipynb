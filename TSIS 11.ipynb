{
 "cells": [
  {
   "cell_type": "markdown",
   "id": "9234fb1b",
   "metadata": {},
   "source": [
    "# TSIS 11 - Phonebook\n",
    "\n",
    "Это **#11** лабораторная работа по предмету *\"Принципы Программирования 2\".*\n",
    "\n",
    "Студента: **Айбасов Даниал Елнарович**"
   ]
  },
  {
   "cell_type": "code",
   "execution_count": 28,
   "id": "d7de04bd",
   "metadata": {},
   "outputs": [],
   "source": [
    "import psycopg2\n",
    "\n",
    "conn = psycopg2.connect(\n",
    "    database=\"postgres\",\n",
    "    user=\"postgres\",\n",
    "    password=\"123\",\n",
    "    host=\"localhost\",\n",
    "    port=\"1337\"\n",
    ")\n",
    "\n",
    "cur = conn.cursor()"
   ]
  },
  {
   "cell_type": "markdown",
   "id": "0453e929",
   "metadata": {},
   "source": [
    "### 1. Function that returns all records based on a pattern (example of pattern: part of name, surname, phone number)"
   ]
  },
  {
   "cell_type": "code",
   "execution_count": 2,
   "id": "e7aecd10",
   "metadata": {},
   "outputs": [],
   "source": [
    "pattern = \"\"\"\n",
    "CREATE OR REPLACE FUNCTION get_data(pattern VARCHAR)\n",
    "RETURNS SETOF PhoneBook AS $$\n",
    "BEGIN\n",
    "    RETURN QUERY SELECT * FROM PhoneBook WHERE first_name LIKE '%' || pattern || '%' OR last_name LIKE '%' || pattern || '%' OR phone LIKE '%' || pattern || '%';\n",
    "END;\n",
    "$$ LANGUAGE plpgsql;\n",
    "\"\"\""
   ]
  },
  {
   "cell_type": "code",
   "execution_count": 17,
   "id": "5442d4dc",
   "metadata": {},
   "outputs": [
    {
     "name": "stdout",
     "output_type": "stream",
     "text": [
      "[(1, 'Danial', 'Aibassov', '+77777')]\n"
     ]
    }
   ],
   "source": [
    "try:\n",
    "    cur.execute(pattern)\n",
    "    cur.callproc('get_data', ('A',)) \n",
    " \n",
    "    result = cur.fetchall()\n",
    "    print( result )\n",
    "except psycopg2.DatabaseError as e:\n",
    "    print(f\"Error: {e}\")\n",
    "    conn.rollback()\n",
    "finally:\n",
    "    conn.commit()"
   ]
  },
  {
   "cell_type": "markdown",
   "id": "60f09b54",
   "metadata": {},
   "source": [
    "### 2. Create procedure to insert new user by name and phone, update phone if user already exists"
   ]
  },
  {
   "cell_type": "code",
   "execution_count": 3,
   "id": "4179e8b1",
   "metadata": {},
   "outputs": [],
   "source": [
    "procedure = \"\"\"\n",
    "CREATE OR REPLACE PROCEDURE insert_user(IN name VARCHAR, IN surname VARCHAR, IN phone VARCHAR)\n",
    "LANGUAGE plpgsql\n",
    "AS $$\n",
    "BEGIN\n",
    "    IF EXISTS(SELECT 1 FROM PhoneBook WHERE first_name = insert_user.name AND last_name = insert_user.surname) THEN\n",
    "        UPDATE PhoneBook SET phone = insert_user.phone WHERE first_name = insert_user.name AND last_name = insert_user.surname;\n",
    "    ELSE\n",
    "        INSERT INTO PhoneBook (first_name, last_name, phone) VALUES (insert_user.name, insert_user.surname, insert_user.phone);\n",
    "    END IF;\n",
    "END;\n",
    "$$;\n",
    "\"\"\"\n"
   ]
  },
  {
   "cell_type": "code",
   "execution_count": 18,
   "id": "75919047",
   "metadata": {},
   "outputs": [
    {
     "name": "stdout",
     "output_type": "stream",
     "text": [
      "Error: no results to fetch\n"
     ]
    }
   ],
   "source": [
    "try:\n",
    "    cur.execute(procedure)\n",
    "    cur.execute(\"CALL insert_user(%s, %s, %s)\", ['Aziz', 'Doe', '871400'])\n",
    "    result = cur.fetchall()\n",
    "    print( result )\n",
    "except psycopg2.DatabaseError as e:\n",
    "    print(f\"Error: {e}\")\n",
    "    conn.rollback()\n",
    "finally:\n",
    "    conn.commit()\n"
   ]
  },
  {
   "cell_type": "markdown",
   "id": "c0e86492",
   "metadata": {},
   "source": [
    "### 3. Create procedure to insert many new users by list of name and phone. Use loop and if statement in stored procedure. Check correctness of phone in procedure and return all incorrect data."
   ]
  },
  {
   "cell_type": "code",
   "execution_count": 29,
   "id": "06bc7fdd",
   "metadata": {},
   "outputs": [],
   "source": [
    "inserting_names = \"\"\"\n",
    "CREATE OR REPLACE PROCEDURE insert_users(\n",
    "    IN user_list text[][]\n",
    ")\n",
    "LANGUAGE plpgsql\n",
    "AS $$\n",
    "DECLARE\n",
    "    i INTEGER := 1;\n",
    "    current_user text[];\n",
    "BEGIN\n",
    "    WHILE i <= array_length(user_list, 1) LOOP\n",
    "        current_user := user_list[i];\n",
    "        \n",
    "        IF regexp_matches(current_user.phone, '[0-9]+') THEN\n",
    "            IF EXISTS(SELECT 1 FROM PhoneBook WHERE first_name = current_user.first_name AND last_name = current_user.last_name) THEN\n",
    "                UPDATE PhoneBook SET phone = current_user.phone WHERE first_name = current_user.first_name AND last_name = current_user.last_name;\n",
    "            ELSE\n",
    "                INSERT INTO PhoneBook (first_name, last_name, phone) VALUES (current_user.first_name, current_user.last_name, current_user.phone);\n",
    "            END IF;\n",
    "        END IF;\n",
    "        \n",
    "        i := i + 1;\n",
    "    END LOOP;\n",
    "END;\n",
    "$$;\n",
    "\"\"\"\n"
   ]
  },
  {
   "cell_type": "code",
   "execution_count": 30,
   "id": "f1a384d8",
   "metadata": {},
   "outputs": [
    {
     "name": "stdout",
     "output_type": "stream",
     "text": [
      "Error: ОШИБКА:  ошибка синтаксиса (примерное положение: \"current_user\")\n",
      "LINE 12:         current_user := user_list[i];\n",
      "                 ^\n",
      "\n"
     ]
    }
   ],
   "source": [
    "try:\n",
    "    cur.execute( inserting_names )\n",
    "    cur.execute(\"CALL insert_users(%s, %s, %s)\", [\n",
    "        ('John', 'Doe', '555-1234'),\n",
    "        ('Jane', 'Doe', 'gfg'),\n",
    "        ('Bob', 'Smith', '1234')\n",
    "    ])\n",
    "    result = cur.fetchall()\n",
    "    print( result )\n",
    "except psycopg2.DatabaseError as e:\n",
    "    print(f\"Error: {e}\")\n",
    "    conn.rollback()\n",
    "finally:\n",
    "    conn.commit()"
   ]
  },
  {
   "cell_type": "markdown",
   "id": "0e0a5dc0",
   "metadata": {},
   "source": [
    "### 4. Create function to querying data from the tables with pagination (by limit and offset)"
   ]
  },
  {
   "cell_type": "code",
   "execution_count": 51,
   "id": "13b7d127",
   "metadata": {},
   "outputs": [],
   "source": [
    "queue = \"\"\"\n",
    "CREATE OR REPLACE FUNCTION get_data1(\n",
    "    table_name text, \n",
    "    limit_rows integer, \n",
    "    offset_rows integer\n",
    ") RETURNS SETOF anyelement AS $$\n",
    "BEGIN\n",
    "    RETURN QUERY EXECUTE format('SELECT * FROM %I LIMIT %s OFFSET %s', table_name, limit, offset);\n",
    "END;\n",
    "$$ LANGUAGE plpgsql;\n",
    "\"\"\""
   ]
  },
  {
   "cell_type": "code",
   "execution_count": 55,
   "id": "e212a618",
   "metadata": {},
   "outputs": [],
   "source": [
    "queue = \"\"\"\n",
    "CREATE OR REPLACE FUNCTION query_phonebook(\n",
    "    table_name TEXT, \n",
    "    limit_rows INTEGER, \n",
    "    offset_rows INTEGER\n",
    ") RETURNS SETOF RECORD AS $$\n",
    "BEGIN\n",
    "    RETURN QUERY EXECUTE format('SELECT * FROM %I LIMIT %s OFFSET %s', table_name, limit_rows, offset_rows);\n",
    "END;\n",
    "$$ LANGUAGE plpgsql;\n",
    "\"\"\""
   ]
  },
  {
   "cell_type": "code",
   "execution_count": 44,
   "id": "0e5fe997",
   "metadata": {},
   "outputs": [],
   "source": [
    "queue = \"\"\"\n",
    "CREATE OR REPLACE FUNCTION query_phonebook(\n",
    "    limit_rows INT,\n",
    "    offset_rows INT\n",
    ")\n",
    "RETURNS TABLE(id INT, first_name TEXT, last_name TEXT, phone TEXT)\n",
    "LANGUAGE plpgsql\n",
    "AS $$\n",
    "BEGIN\n",
    "    RETURN QUERY\n",
    "    SELECT id, first_name, last_name, phone\n",
    "    FROM Phonebook\n",
    "    ORDER BY id\n",
    "    LIMIT limit_rows OFFSET offset_rows;\n",
    "END;\n",
    "$$;\n",
    "\"\"\""
   ]
  },
  {
   "cell_type": "code",
   "execution_count": 56,
   "id": "bd4dc7a2",
   "metadata": {},
   "outputs": [
    {
     "name": "stdout",
     "output_type": "stream",
     "text": [
      "Error: ОШИБКА:  у функций, возвращающих запись, должен быть список определений столбцов\n",
      "LINE 1: SELECT * FROM query_phonebook('PhoneBook',2,1)\n",
      "                      ^\n",
      "\n"
     ]
    }
   ],
   "source": [
    "try:\n",
    "    cur.execute( queue )\n",
    "    cur.callproc( 'query_phonebook', ('PhoneBook', 2, 1))\n",
    "    result = cur.fetchall()\n",
    "    print( result )\n",
    "except psycopg2.DatabaseError as e:\n",
    "    print(f\"Error: {e}\")\n",
    "    conn.rollback()\n",
    "finally:\n",
    "    conn.commit()"
   ]
  },
  {
   "cell_type": "markdown",
   "id": "0b369a90",
   "metadata": {},
   "source": [
    "### 5. Implement procedure to deleting data from tables by username or phone"
   ]
  },
  {
   "cell_type": "code",
   "execution_count": 6,
   "id": "5a4e3ce7",
   "metadata": {},
   "outputs": [],
   "source": [
    "delete = \"\"\"\n",
    "CREATE OR REPLACE PROCEDURE delete_data(IN data VARCHAR(30))\n",
    "LANGUAGE plpgsql\n",
    "AS $$\n",
    "BEGIN\n",
    "    DELETE FROM PhoneBook WHERE first_name = data OR last_name = data OR phone = data;\n",
    "END;\n",
    "$$;\n",
    "\"\"\""
   ]
  },
  {
   "cell_type": "code",
   "execution_count": null,
   "id": "73f248b1",
   "metadata": {},
   "outputs": [],
   "source": [
    "try:\n",
    "    # cur.execute(pattern)\n",
    "    # cur.callproc('get_data', ('A',)) \n",
    "\n",
    "    # cur.execute(procedure)\n",
    "    # cur.execute(\"CALL insert_user(%s, %s, %s)\", ['Aziz', 'Doe', '871400'])\n",
    "\n",
    "    # cur.execute( inserting_names )\n",
    "    # cur.execute(\"CALL insert_users(%s, %s, %s)\", [\n",
    "    #     ('John', 'Doe', '555-1234'),\n",
    "    #     ('Jane', 'Doe', 'gfg'),\n",
    "    #     ('Bob', 'Smith', '1234')\n",
    "    # ])\n",
    "\n",
    "    # cur.execute( queue )\n",
    "    # cur.callproc( 'get_data1', ('PhoneBook', 2, 1))\n",
    "\n",
    "    cur.execute( delete )\n",
    "    cur.execute('CALL delete_data(%s)', ('Doe',))\n",
    "    \n",
    "    # result = cur.fetchall()\n",
    "    # print( result )\n",
    "except psycopg2.DatabaseError as e:\n",
    "    print(f\"Error: {e}\")\n",
    "    conn.rollback()\n",
    "finally:\n",
    "    conn.commit()\n",
    "    cur.close()\n",
    "    conn.close()"
   ]
  }
 ],
 "metadata": {
  "kernelspec": {
   "display_name": "Python 3 (ipykernel)",
   "language": "python",
   "name": "python3"
  },
  "language_info": {
   "codemirror_mode": {
    "name": "ipython",
    "version": 3
   },
   "file_extension": ".py",
   "mimetype": "text/x-python",
   "name": "python",
   "nbconvert_exporter": "python",
   "pygments_lexer": "ipython3",
   "version": "3.11.5"
  }
 },
 "nbformat": 4,
 "nbformat_minor": 5
}
