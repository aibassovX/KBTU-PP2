{
 "cells": [
  {
   "cell_type": "markdown",
   "id": "f1c00911",
   "metadata": {},
   "source": [
    "# TSIS 6.1 - Built-in Functions\n",
    "\n",
    "Это **#6.1** лабораторная работа по предмету *\"Принципы Программирования 2\".*\n",
    "\n",
    "Студента: **Айбасов Даниал Елнарович**"
   ]
  },
  {
   "cell_type": "markdown",
   "id": "e397ad30",
   "metadata": {},
   "source": [
    "1. Write a Python program with builtin function to multiply all the numbers in a list\n",
    "2. Write a Python program with builtin function that accepts a string and calculate the number of upper case letters and lower case letters\n",
    "3. Write a Python program with builtin function that checks whether a passed string is palindrome or not.\n",
    "4. Write a Python program that invoke square root function after specific milliseconds. \n",
    "    ```\n",
    "    Sample Input:\n",
    "    25100\n",
    "    2123\n",
    "    Sample Output:\n",
    "    Square root of 25100 after 2123 miliseconds is 158.42979517754858\n",
    "    ````\n",
    "5. Write a Python program with builtin function that returns True if all elements of the tuple are true."
   ]
  },
  {
   "cell_type": "markdown",
   "id": "6a161208",
   "metadata": {},
   "source": [
    "---"
   ]
  },
  {
   "cell_type": "markdown",
   "id": "3fba46bc",
   "metadata": {},
   "source": [
    "1. Write a Python program with builtin function to multiply all the numbers in a list"
   ]
  },
  {
   "cell_type": "code",
   "execution_count": 2,
   "id": "65d609cb",
   "metadata": {},
   "outputs": [
    {
     "name": "stdout",
     "output_type": "stream",
     "text": [
      "The product of all numbers in the list is: 3628800\n"
     ]
    }
   ],
   "source": [
    "from functools import reduce\n",
    "\n",
    "def multiply_list(numbers):\n",
    "    return reduce(lambda x, y: x * y, numbers)\n",
    "\n",
    "\n",
    "numbers = [i for i in range(1,11)]\n",
    "result = multiply_list(numbers)\n",
    "print(\"The product of all numbers in the list is:\", result)\n"
   ]
  },
  {
   "cell_type": "markdown",
   "id": "d3b14778",
   "metadata": {},
   "source": [
    "---"
   ]
  },
  {
   "cell_type": "markdown",
   "id": "0cd2d15f",
   "metadata": {},
   "source": [
    "2. Write a Python program with builtin function that accepts a string and calculate the number of upper case letters and lower case letters"
   ]
  },
  {
   "cell_type": "code",
   "execution_count": 10,
   "id": "45654ce7",
   "metadata": {},
   "outputs": [
    {
     "name": "stdout",
     "output_type": "stream",
     "text": [
      "Enter a string: AAAAssss\n",
      "Number of uppercase letters: 4\n",
      "Number of lowercase letters: 4\n"
     ]
    }
   ],
   "source": [
    "def count_case_letters(s):\n",
    "    upper_count = sum(1 for char in s if char.isupper())\n",
    "    lower_count = sum(1 for char in s if char.islower())\n",
    "    return upper_count, lower_count\n",
    "\n",
    "input_string = input(\"Enter a string: \")\n",
    "upper_count, lower_count = count_case_letters(input_string)\n",
    "print(\"Number of uppercase letters:\", upper_count)\n",
    "print(\"Number of lowercase letters:\", lower_count)\n"
   ]
  },
  {
   "cell_type": "markdown",
   "id": "4ba454ef",
   "metadata": {},
   "source": [
    "---"
   ]
  },
  {
   "cell_type": "markdown",
   "id": "b99b7243",
   "metadata": {},
   "source": [
    "3. Write a Python program with builtin function that checks whether a passed string is palindrome or not."
   ]
  },
  {
   "cell_type": "code",
   "execution_count": 11,
   "id": "0af8842b",
   "metadata": {},
   "outputs": [
    {
     "name": "stdout",
     "output_type": "stream",
     "text": [
      "Enter a string: ASAdasdsda\n",
      "The string is not a palindrome.\n"
     ]
    }
   ],
   "source": [
    "def is_palindrome(s):\n",
    "    s = s.replace(\" \", \"\").lower()\n",
    "    return s == s[::-1]\n",
    "\n",
    "# Example usage\n",
    "input_string = input(\"Enter a string: \")\n",
    "if is_palindrome(input_string):\n",
    "    print(\"The string is a palindrome.\")\n",
    "else:\n",
    "    print(\"The string is not a palindrome.\")\n"
   ]
  },
  {
   "cell_type": "markdown",
   "id": "4f89d0ea",
   "metadata": {},
   "source": [
    "---"
   ]
  },
  {
   "cell_type": "markdown",
   "id": "6ecf2e03",
   "metadata": {},
   "source": [
    "4. Write a Python program that invoke square root function after specific milliseconds."
   ]
  },
  {
   "cell_type": "code",
   "execution_count": 10,
   "id": "9797be07",
   "metadata": {},
   "outputs": [
    {
     "name": "stdout",
     "output_type": "stream",
     "text": [
      "Enter the number: 41\n",
      "Enter the delay in millisecods: 80000\n",
      "Calculating the square root of 41 after 80000 milliseconds...\n",
      "The square root of 41 is: 6.4031242374328485\n"
     ]
    }
   ],
   "source": [
    "import time\n",
    "import math\n",
    "\n",
    "def delayed_sqrt(number, ms):\n",
    "    delay_in_seconds = ms / 1000.0\n",
    "    time.sleep(delay_in_seconds)\n",
    "    return math.sqrt(number)\n",
    "\n",
    "num = int(input('Enter the number: '))\n",
    "delay = int(input('Enter the delay in millisecods: ')) \n",
    "\n",
    "print(f\"Calculating the square root of {num} after {delay} milliseconds...\")\n",
    "\n",
    "result = delayed_sqrt(num, delay)\n",
    "print(f\"The square root of {num} is: {result}\")\n"
   ]
  }
 ],
 "metadata": {
  "kernelspec": {
   "display_name": "Python 3 (ipykernel)",
   "language": "python",
   "name": "python3"
  },
  "language_info": {
   "codemirror_mode": {
    "name": "ipython",
    "version": 3
   },
   "file_extension": ".py",
   "mimetype": "text/x-python",
   "name": "python",
   "nbconvert_exporter": "python",
   "pygments_lexer": "ipython3",
   "version": "3.11.5"
  }
 },
 "nbformat": 4,
 "nbformat_minor": 5
}
