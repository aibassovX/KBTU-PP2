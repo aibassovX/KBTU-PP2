{
 "cells": [
  {
   "cell_type": "markdown",
   "id": "b94ae73b",
   "metadata": {},
   "source": [
    "# TSIS 10.1 - Phonebook\n",
    "\n",
    "Это **#10.1** лабораторная работа по предмету *\"Принципы Программирования 2\".*\n",
    "\n",
    "Студента: **Айбасов Даниал Елнарович**"
   ]
  },
  {
   "cell_type": "code",
   "execution_count": 5,
   "id": "43aa556c",
   "metadata": {},
   "outputs": [
    {
     "name": "stdout",
     "output_type": "stream",
     "text": [
      "Enter name: Danial\n",
      "Enter surname: Aibassov\n",
      "Enter phone number: +77777\n",
      "[(1, 'Danial', 'Aibassov', '+77777')]\n",
      "[(1, 'Danial')]\n"
     ]
    }
   ],
   "source": [
    "import psycopg2\n",
    "import csv\n",
    "\n",
    "conn = psycopg2.connect(\n",
    "    database=\"postgres\",\n",
    "    user=\"postgres\",\n",
    "    password=\"123\",\n",
    "    host=\"localhost\",\n",
    "    port=\"1337\"\n",
    ")\n",
    "\n",
    "cur = conn.cursor()\n",
    "\n",
    "cur.execute(\"CREATE TABLE IF NOT EXISTS PhoneBook (id SERIAL PRIMARY KEY, first_name VARCHAR(30), last_name VARCHAR(30), phone VARCHAR(15));\")\n",
    "\n",
    "# with open('data.csv', 'r') as f:\n",
    "#     reader = csv.reader(f)\n",
    "#     for row in reader:\n",
    "#         cur.execute(\"INSERT INTO PhoneBook (name, phone) VALUES (%s, %s)\", (row[0], row[1]))\n",
    "try:\n",
    "    name = input(\"Enter name: \")\n",
    "    surname = input(\"Enter surname: \")\n",
    "    phone = input(\"Enter phone number: \")\n",
    "\n",
    "    cur.execute(\"INSERT INTO PhoneBook (first_name, last_name, phone) VALUES (%s, %s, %s)\", (name, surname, phone))\n",
    "\n",
    "    cur.execute(\"SELECT * FROM PhoneBook\")\n",
    "    print(cur.fetchall())\n",
    "    cur.execute(\"UPDATE PhoneBook SET phone = '45454' WHERE first_name = 'Aziz';\")\n",
    "\n",
    "    cur.execute(\"SELECT id, first_name FROM PhoneBook\")\n",
    "    print(cur.fetchall())\n",
    "\n",
    "    cur.execute(\"DELETE FROM PhoneBook WHERE first_name = 'Aziz'\")\n",
    "except psycopg2.DatabaseError:\n",
    "    conn.rollback()\n",
    "finally:\n",
    "    conn.commit()\n",
    "    cur.close()\n",
    "    conn.close()"
   ]
  }
 ],
 "metadata": {
  "kernelspec": {
   "display_name": "Python 3 (ipykernel)",
   "language": "python",
   "name": "python3"
  },
  "language_info": {
   "codemirror_mode": {
    "name": "ipython",
    "version": 3
   },
   "file_extension": ".py",
   "mimetype": "text/x-python",
   "name": "python",
   "nbconvert_exporter": "python",
   "pygments_lexer": "ipython3",
   "version": "3.11.5"
  }
 },
 "nbformat": 4,
 "nbformat_minor": 5
}
